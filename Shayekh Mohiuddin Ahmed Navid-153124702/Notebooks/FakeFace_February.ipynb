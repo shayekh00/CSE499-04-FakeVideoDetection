{
 "cells": [
  {
   "cell_type": "code",
   "execution_count": 1,
   "metadata": {
    "colab": {
     "base_uri": "https://localhost:8080/",
     "height": 77
    },
    "colab_type": "code",
    "executionInfo": {
     "elapsed": 2928,
     "status": "ok",
     "timestamp": 1575403835777,
     "user": {
      "displayName": "Shayekh Mohiuddin Ahmed Navi 1531247643",
      "photoUrl": "https://lh3.googleusercontent.com/a-/AAuE7mBpti9TZg3fYZJ9-kZ1e07c1k4znhqbYnmJvG_T=s64",
      "userId": "09928623449619463505"
     },
     "user_tz": -360
    },
    "id": "NGgrjtdIZYLG",
    "outputId": "c09782e0-8ce4-4f25-a446-3477406c9dd5"
   },
   "outputs": [
    {
     "name": "stderr",
     "output_type": "stream",
     "text": [
      "Using TensorFlow backend.\n"
     ]
    }
   ],
   "source": [
    "import numpy as np\n",
    "#import pandas as pd\n",
    "from keras.callbacks import ModelCheckpoint\n",
    "#from tensorflow.keras.callbacks import ModelCheckpoint\n",
    "\n",
    "from keras.callbacks import EarlyStopping, ModelCheckpoint\n",
    "\n",
    "import keras\n",
    "import keras.backend as K\n",
    "import tensorflow as tf\n",
    "from keras import applications\n",
    "from keras.models import Model\n",
    "from keras.layers import Flatten, Dense, Input,concatenate,Conv2D,Dropout,GlobalAveragePooling2D\n",
    "from keras.optimizers import Adam\n",
    "from keras.models import load_model, model_from_json\n",
    "from keras.preprocessing.image import load_img\n",
    "from keras.preprocessing.image import img_to_array\n",
    "from keras.preprocessing.image import ImageDataGenerator\n",
    "import matplotlib.pyplot as plt\n",
    "from keras.applications.inception_v3 import InceptionV3\n",
    "from tensorflow.keras.models import Sequential\n",
    "from keras.applications.inception_resnet_v2 import InceptionResNetV2\n",
    "import os"
   ]
  },
  {
   "cell_type": "code",
   "execution_count": 7,
   "metadata": {},
   "outputs": [
    {
     "name": "stdout",
     "output_type": "stream",
     "text": [
      "WARNING:tensorflow:From C:\\Users\\nsuic_0t98h8a\\Anaconda3\\envs\\faceswap\\lib\\site-packages\\keras\\backend\\tensorflow_backend.py:3445: calling dropout (from tensorflow.python.ops.nn_ops) with keep_prob is deprecated and will be removed in a future version.\n",
      "Instructions for updating:\n",
      "Please use `rate` instead of `keep_prob`. Rate should be set to `rate = 1 - keep_prob`.\n"
     ]
    }
   ],
   "source": [
    "img_h=224\n",
    "img_w=224\n",
    "\n",
    "base_model = InceptionResNetV2(weights='imagenet', include_top=False)\n",
    "x = base_model.output\n",
    "x = GlobalAveragePooling2D()(x)\n",
    "x =  (Dropout(0.15))(x)\n",
    "predictions = Dense(2, activation='sigmoid')(x)\n",
    "\n",
    "model = Model(base_model.input, predictions)\n",
    "model.compile(optimizer='adam', loss='binary_crossentropy', metrics=['accuracy'])"
   ]
  },
  {
   "cell_type": "code",
   "execution_count": 12,
   "metadata": {
    "colab": {
     "base_uri": "https://localhost:8080/",
     "height": 1000
    },
    "colab_type": "code",
    "executionInfo": {
     "elapsed": 1661,
     "status": "ok",
     "timestamp": 1575403886059,
     "user": {
      "displayName": "Shayekh Mohiuddin Ahmed Navi 1531247643",
      "photoUrl": "https://lh3.googleusercontent.com/a-/AAuE7mBpti9TZg3fYZJ9-kZ1e07c1k4znhqbYnmJvG_T=s64",
      "userId": "09928623449619463505"
     },
     "user_tz": -360
    },
    "id": "XhLNE93pYwGS",
    "outputId": "6f2148e3-54da-4411-818d-5de98ebf2a51",
    "scrolled": false
   },
   "outputs": [
    {
     "ename": "SyntaxError",
     "evalue": "invalid syntax (<ipython-input-12-474e0d202806>, line 1)",
     "output_type": "error",
     "traceback": [
      "\u001b[1;36m  File \u001b[1;32m\"<ipython-input-12-474e0d202806>\"\u001b[1;36m, line \u001b[1;32m1\u001b[0m\n\u001b[1;33m    model.summary() .\u001b[0m\n\u001b[1;37m                     ^\u001b[0m\n\u001b[1;31mSyntaxError\u001b[0m\u001b[1;31m:\u001b[0m invalid syntax\n"
     ]
    }
   ],
   "source": [
    "model.summary() ."
   ]
  },
  {
   "cell_type": "code",
   "execution_count": 4,
   "metadata": {
    "colab": {},
    "colab_type": "code",
    "id": "kZPoEyPjZ6PF"
   },
   "outputs": [],
   "source": [
    "train_datagen = ImageDataGenerator(rescale=1./255,)\n",
    "\n",
    "validation_datagen = ImageDataGenerator(rescale=1./255)\n",
    "\n",
    "test_datagen = ImageDataGenerator(rescale=1./255)\n",
    "#this will rescale the images by 1/255"
   ]
  },
  {
   "cell_type": "markdown",
   "metadata": {
    "colab_type": "text",
    "id": "Yua3KbLncy9X"
   },
   "source": [
    "# **RE RUN THE CELL ( 2/ 3 TIMES) IF YOU DO NOT GET 11965 IN EACH DIRECTORY**"
   ]
  },
  {
   "cell_type": "code",
   "execution_count": 5,
   "metadata": {
    "colab": {
     "base_uri": "https://localhost:8080/",
     "height": 70
    },
    "colab_type": "code",
    "executionInfo": {
     "elapsed": 5089,
     "status": "ok",
     "timestamp": 1575119845619,
     "user": {
      "displayName": "Shayekh Mohiuddin Ahmed Navi 1531247643",
      "photoUrl": "https://lh3.googleusercontent.com/a-/AAuE7mBpti9TZg3fYZJ9-kZ1e07c1k4znhqbYnmJvG_T=s64",
      "userId": "09928623449619463505"
     },
     "user_tz": -360
    },
    "id": "HHx_6xF5Z9fo",
    "outputId": "1c7054fa-8242-49bc-f120-c930ceff35cf"
   },
   "outputs": [
    {
     "name": "stdout",
     "output_type": "stream",
     "text": [
      "Found 142569 images belonging to 2 classes.\n",
      "Found 26548 images belonging to 2 classes.\n"
     ]
    }
   ],
   "source": [
    "img_h=224\n",
    "img_w=224\n",
    "\n",
    "train_generator = train_datagen.flow_from_directory(\n",
    "#     directory=\"./Data/SplittedData/Train\",\n",
    "    directory= \"dataset/Train\",\n",
    "    target_size=(img_h,img_w),\n",
    "    color_mode=\"rgb\",\n",
    "    batch_size=32,\n",
    "    #class_mode=\"categorical\",\n",
    "    shuffle=True,\n",
    "#    subset='training'\n",
    "    #seed=42\n",
    ")\n",
    "\n",
    "validation_generator = test_datagen.flow_from_directory(\n",
    "    directory=\"dataset/Validation\",\n",
    "    target_size=(img_h,img_w),\n",
    "    color_mode=\"rgb\",\n",
    "    batch_size=16,\n",
    "   # class_mode=\"categorical\",\n",
    "    shuffle=False\n",
    ")\n"
   ]
  },
  {
   "cell_type": "code",
   "execution_count": 10,
   "metadata": {
    "colab": {},
    "colab_type": "code",
    "id": "SzccLh_Iqc2N",
    "scrolled": true
   },
   "outputs": [
    {
     "name": "stdout",
     "output_type": "stream",
     "text": [
      "Epoch 1/10\n",
      "4455/4455 [==============================] - 3112s 698ms/step - loss: 0.1975 - acc: 0.9264 - val_loss: 0.4681 - val_acc: 0.8255\n",
      "\n",
      "Epoch 00001: val_loss improved from inf to 0.46806, saving model to Checkpoints\\weights.hdf5\n",
      "Epoch 2/10\n",
      "4455/4455 [==============================] - 3078s 691ms/step - loss: 0.1077 - acc: 0.9609 - val_loss: 0.4909 - val_acc: 0.8917\n",
      "\n",
      "Epoch 00002: val_loss did not improve from 0.46806\n",
      "Epoch 3/10\n",
      "4455/4455 [==============================] - 3081s 692ms/step - loss: 0.0773 - acc: 0.9718 - val_loss: 0.5075 - val_acc: 0.8772\n",
      "\n",
      "Epoch 00003: val_loss did not improve from 0.46806\n",
      "Epoch 4/10\n",
      "4455/4455 [==============================] - 3080s 691ms/step - loss: 0.0629 - acc: 0.9774 - val_loss: 0.5459 - val_acc: 0.8729\n",
      "\n",
      "Epoch 00004: val_loss did not improve from 0.46806\n",
      "Epoch 5/10\n",
      "4455/4455 [==============================] - 3081s 691ms/step - loss: 0.0536 - acc: 0.9804 - val_loss: 0.6346 - val_acc: 0.8742\n",
      "\n",
      "Epoch 00005: val_loss did not improve from 0.46806\n",
      "Epoch 6/10\n",
      "4455/4455 [==============================] - 3081s 691ms/step - loss: 0.0491 - acc: 0.9827 - val_loss: 0.5565 - val_acc: 0.8831\n",
      "\n",
      "Epoch 00006: val_loss did not improve from 0.46806\n",
      "Epoch 7/10\n",
      "4455/4455 [==============================] - 3079s 691ms/step - loss: 0.0402 - acc: 0.9855 - val_loss: 0.5129 - val_acc: 0.8886\n",
      "\n",
      "Epoch 00007: val_loss did not improve from 0.46806\n",
      "Epoch 8/10\n",
      "4455/4455 [==============================] - 3080s 691ms/step - loss: 0.0356 - acc: 0.9871 - val_loss: 0.6249 - val_acc: 0.8862\n",
      "\n",
      "Epoch 00008: val_loss did not improve from 0.46806\n",
      "Epoch 9/10\n",
      "4455/4455 [==============================] - 3080s 691ms/step - loss: 0.0322 - acc: 0.9884 - val_loss: 0.6696 - val_acc: 0.8802\n",
      "\n",
      "Epoch 00009: val_loss did not improve from 0.46806\n",
      "Epoch 10/10\n",
      "4455/4455 [==============================] - 3080s 691ms/step - loss: 0.0292 - acc: 0.9896 - val_loss: 0.8093 - val_acc: 0.8784\n",
      "\n",
      "Epoch 00010: val_loss did not improve from 0.46806\n"
     ]
    }
   ],
   "source": [
    "checkpointer = ModelCheckpoint(filepath='Checkpoints\\weights.hdf5', monitor='val_loss',verbose=1, save_best_only=True)\n",
    "\n",
    "history=model.fit_generator(\n",
    "                generator=train_generator,\n",
    "                steps_per_epoch=train_generator.n//train_generator.batch_size,\n",
    "                 validation_data=validation_generator,\n",
    "                 validation_steps=validation_generator.n//validation_generator.batch_size,\n",
    "                epochs=10,\n",
    "                callbacks=[checkpointer])\n"
   ]
  },
  {
   "cell_type": "code",
   "execution_count": 11,
   "metadata": {},
   "outputs": [
    {
     "data": {
      "image/png": "[encoded data removed]",
      "text/plain": [
       "<Figure size 432x288 with 1 Axes>"
      ]
     },
     "metadata": {
      "needs_background": "light"
     },
     "output_type": "display_data"
    }
   ],
   "source": [
    "import keras\n",
    "from matplotlib import pyplot as plt\n",
    "#history = model1.fit(train_x, train_y,validation_split = 0.1, epochs=50, batch_size=4)\n",
    "plt.plot(history.history['acc'])\n",
    "plt.plot(history.history['val_acc'])\n",
    "plt.title('model accuracy')\n",
    "plt.ylabel('accuracy')\n",
    "plt.xlabel('epoch')\n",
    "plt.legend(['Train','Validation'], loc='upper left')\n",
    "plt.show()"
   ]
  },
  {
   "cell_type": "code",
   "execution_count": 12,
   "metadata": {},
   "outputs": [
    {
     "data": {
      "image/png": "[encoded data removed]",
      "text/plain": [
       "<Figure size 432x288 with 1 Axes>"
      ]
     },
     "metadata": {
      "needs_background": "light"
     },
     "output_type": "display_data"
    }
   ],
   "source": [
    "plt.plot(history.history['loss'])\n",
    "plt.plot(history.history['val_loss'])\n",
    "plt.title('model loss')\n",
    "plt.ylabel('loss')\n",
    "plt.xlabel('epoch')\n",
    "plt.legend(['Train', 'Validation'], loc='upper left')\n",
    "plt.show()"
   ]
  },
  {
   "cell_type": "code",
   "execution_count": 9,
   "metadata": {},
   "outputs": [
    {
     "ename": "SyntaxError",
     "evalue": "invalid syntax (<ipython-input-9-474e0d202806>, line 1)",
     "output_type": "error",
     "traceback": [
      "\u001b[1;36m  File \u001b[1;32m\"<ipython-input-9-474e0d202806>\"\u001b[1;36m, line \u001b[1;32m1\u001b[0m\n\u001b[1;33m    model.summary() .\u001b[0m\n\u001b[1;37m                     ^\u001b[0m\n\u001b[1;31mSyntaxError\u001b[0m\u001b[1;31m:\u001b[0m invalid syntax\n"
     ]
    }
   ],
   "source": [
    "model.summary() ."
   ]
  },
  {
   "cell_type": "code",
   "execution_count": 19,
   "metadata": {},
   "outputs": [],
   "source": [
    "model.load_weights('Checkpoints\\weights.hdf5')"
   ]
  },
  {
   "cell_type": "code",
   "execution_count": null,
   "metadata": {
    "colab": {},
    "colab_type": "code",
    "id": "xY92kP06attm"
   },
   "outputs": [],
   "source": [
    "# img_h=224\n",
    "# img_w=224\n",
    "\n",
    "# initial_model = applications.inception_resnet_v2.InceptionResNetV2(include_top=False, weights='imagenet', input_shape=(img_h,img_w,3))\n",
    "# x = initial_model.output\n",
    "\n",
    "# for layer in initial_model.layers:\n",
    "#     layer.trainable = False\n",
    "    \n",
    "    \n",
    "# # x = Conv2D(128, kernel_size=3, strides=1, activation='relu')(last)\n",
    "# # x = Conv2D(64, kernel_size=3, strides=1, activation='relu')(x)\n",
    "# x = Flatten()(x) \n",
    "# # x = Dense(512, activation='relu')(x)\n",
    "# # x = Dense(256, activation='relu')(x)\n",
    "# #x= GlobalMaxPooling2D()(x)\n",
    "# #x = Dense(128, activation='relu')(x)\n",
    "# #x =  (Dropout(0.1))(x)\n",
    "# preds = Dense(2, activation='sigmoid')(x)\n",
    "\n",
    "# model = Model(initial_model.input, preds)\n",
    "\n",
    "# #model.compile(optimizer='adam', loss='binary_crossentropy', metrics=['accuracy'])\n",
    "# model.compile(optimizer='adam', loss='binary_crossentropy', metrics=['accuracy'])"
   ]
  },
  {
   "cell_type": "code",
   "execution_count": null,
   "metadata": {},
   "outputs": [],
   "source": [
    "model.save_weights('weights__sampledata_1st_10Epochs.h5')"
   ]
  },
  {
   "cell_type": "code",
   "execution_count": null,
   "metadata": {},
   "outputs": [],
   "source": [
    "model.load_weights('Checkpoints\\weights.hdf5')"
   ]
  },
  {
   "cell_type": "code",
   "execution_count": null,
   "metadata": {
    "colab": {},
    "colab_type": "code",
    "id": "F1OcT_cFBxon"
   },
   "outputs": [
    {
     "name": "stdout",
     "output_type": "stream",
     "text": [
      "Epoch 1/15\n",
      "1697/4455 [==========>...................] - ETA: 1:55:28 - loss: 0.0209 - acc: 0.9929"
     ]
    }
   ],
   "source": [
    "checkpointer2 = ModelCheckpoint(filepath='Checkpoints\\weights.hdf5', monitor='val_loss',verbose=1, save_best_only=True)\n",
    "\n",
    "for layer in base_model.layers:\n",
    "    layer.trainable = True\n",
    "\n",
    "from keras.optimizers import SGD\n",
    "model.compile(optimizer=SGD(lr=0.0001, momentum=0.9), loss='binary_crossentropy', metrics=['accuracy'])\n",
    "history2=model.fit_generator(\n",
    "                generator=train_generator,\n",
    "                steps_per_epoch=train_generator.n//train_generator.batch_size,\n",
    "                 validation_data=validation_generator,\n",
    "                 validation_steps=validation_generator.n//validation_generator.batch_size,\n",
    "                epochs=15,\n",
    "                callbacks=[checkpointer2]  )\n"
   ]
  },
  {
   "cell_type": "code",
   "execution_count": 24,
   "metadata": {},
   "outputs": [
    {
     "name": "stdout",
     "output_type": "stream",
     "text": [
      "Epoch 1/15\n",
      "4455/4455 [==============================] - 2883s 647ms/step - loss: 0.2119 - acc: 0.9208 - val_loss: 0.4521 - val_acc: 0.8454\n",
      "\n",
      "Epoch 00001: val_loss improved from 0.54228 to 0.45206, saving model to Checkpoints\\weights.hdf5\n",
      "Epoch 2/15\n",
      "4455/4455 [==============================] - 2865s 643ms/step - loss: 0.1449 - acc: 0.9457 - val_loss: 0.4707 - val_acc: 0.8295\n",
      "\n",
      "Epoch 00002: val_loss did not improve from 0.45206\n",
      "Epoch 3/15\n",
      "4455/4455 [==============================] - 2867s 644ms/step - loss: 0.1063 - acc: 0.9608 - val_loss: 0.4818 - val_acc: 0.8491\n",
      "\n",
      "Epoch 00003: val_loss did not improve from 0.45206\n",
      "Epoch 4/15\n",
      "4455/4455 [==============================] - 2868s 644ms/step - loss: 0.0851 - acc: 0.9687 - val_loss: 0.4910 - val_acc: 0.8622\n",
      "\n",
      "Epoch 00004: val_loss did not improve from 0.45206\n",
      "Epoch 5/15\n",
      "4455/4455 [==============================] - 2866s 643ms/step - loss: 0.0680 - acc: 0.9743 - val_loss: 0.5603 - val_acc: 0.8655\n",
      "\n",
      "Epoch 00005: val_loss did not improve from 0.45206\n",
      "Epoch 6/15\n",
      "4455/4455 [==============================] - 2865s 643ms/step - loss: 0.0520 - acc: 0.9802 - val_loss: 0.6529 - val_acc: 0.8453\n",
      "\n",
      "Epoch 00006: val_loss did not improve from 0.45206\n",
      "Epoch 7/15\n",
      "4455/4455 [==============================] - 2865s 643ms/step - loss: 0.0401 - acc: 0.9848 - val_loss: 0.6915 - val_acc: 0.8624\n",
      "\n",
      "Epoch 00007: val_loss did not improve from 0.45206\n",
      "Epoch 8/15\n",
      "4455/4455 [==============================] - 2864s 643ms/step - loss: 0.0329 - acc: 0.9873 - val_loss: 0.7411 - val_acc: 0.8528\n",
      "\n",
      "Epoch 00008: val_loss did not improve from 0.45206\n",
      "Epoch 9/15\n",
      "4455/4455 [==============================] - 2864s 643ms/step - loss: 0.0254 - acc: 0.9904 - val_loss: 0.8356 - val_acc: 0.8592\n",
      "\n",
      "Epoch 00009: val_loss did not improve from 0.45206\n",
      "Epoch 10/15\n",
      "4455/4455 [==============================] - 2864s 643ms/step - loss: 0.0193 - acc: 0.9925 - val_loss: 0.8676 - val_acc: 0.8648\n",
      "\n",
      "Epoch 00010: val_loss did not improve from 0.45206\n",
      "Epoch 11/15\n",
      "4455/4455 [==============================] - 2864s 643ms/step - loss: 0.0160 - acc: 0.9939 - val_loss: 0.9245 - val_acc: 0.8555\n",
      "\n",
      "Epoch 00011: val_loss did not improve from 0.45206\n",
      "Epoch 12/15\n",
      "4455/4455 [==============================] - 2864s 643ms/step - loss: 0.0137 - acc: 0.9947 - val_loss: 0.9530 - val_acc: 0.8600\n",
      "\n",
      "Epoch 00012: val_loss did not improve from 0.45206\n",
      "Epoch 13/15\n",
      "4455/4455 [==============================] - 2864s 643ms/step - loss: 0.0113 - acc: 0.9956 - val_loss: 0.9490 - val_acc: 0.8648\n",
      "\n",
      "Epoch 00013: val_loss did not improve from 0.45206\n",
      "Epoch 14/15\n",
      "4455/4455 [==============================] - 2864s 643ms/step - loss: 0.0091 - acc: 0.9964 - val_loss: 0.9777 - val_acc: 0.8707\n",
      "\n",
      "Epoch 00014: val_loss did not improve from 0.45206\n",
      "Epoch 15/15\n",
      "4455/4455 [==============================] - 2864s 643ms/step - loss: 0.0088 - acc: 0.9967 - val_loss: 0.9884 - val_acc: 0.8605\n",
      "\n",
      "Epoch 00015: val_loss did not improve from 0.45206\n"
     ]
    }
   ],
   "source": [
    "for layer in initial_model.layers:\n",
    "    layer.trainable = True\n",
    "\n",
    "from keras.optimizers import SGD\n",
    "model.compile(optimizer=SGD(lr=0.0001, momentum=0.9), loss='binary_crossentropy', metrics=['accuracy'])\n",
    "history2=model.fit_generator(\n",
    "                generator=train_generator,\n",
    "                steps_per_epoch=train_generator.n//train_generator.batch_size,\n",
    "                 validation_data=validation_generator,\n",
    "                 validation_steps=validation_generator.n//validation_generator.batch_size,\n",
    "                epochs=15,\n",
    "                callbacks=[checkpointer2]  )"
   ]
  },
  {
   "cell_type": "code",
   "execution_count": 25,
   "metadata": {},
   "outputs": [
    {
     "data": {
      "image/png": "[encoded data removed]",
      "text/plain": [
       "<Figure size 432x288 with 1 Axes>"
      ]
     },
     "metadata": {
      "needs_background": "light"
     },
     "output_type": "display_data"
    }
   ],
   "source": [
    "import keras\n",
    "from matplotlib import pyplot as plt\n",
    "plt.plot(history2.history['acc'])\n",
    "plt.plot(history2.history['val_acc'])\n",
    "plt.title('model accuracy')\n",
    "plt.ylabel('accuracy')\n",
    "plt.xlabel('epoch')\n",
    "plt.legend(['Train', 'Val'], loc='upper left')\n",
    "plt.show()"
   ]
  },
  {
   "cell_type": "code",
   "execution_count": 26,
   "metadata": {},
   "outputs": [
    {
     "data": {
      "image/png": "[encoded data removed]",
      "text/plain": [
       "<Figure size 432x288 with 1 Axes>"
      ]
     },
     "metadata": {
      "needs_background": "light"
     },
     "output_type": "display_data"
    }
   ],
   "source": [
    "plt.plot(history2.history['loss'])\n",
    "plt.plot(history2.history['val_loss'])\n",
    "plt.title('model loss')\n",
    "plt.ylabel('loss')\n",
    "plt.xlabel('epoch')\n",
    "plt.legend(['train', 'val'], loc='upper left')\n",
    "plt.show()"
   ]
  },
  {
   "cell_type": "code",
   "execution_count": null,
   "metadata": {
    "colab": {},
    "colab_type": "code",
    "id": "v1uXGws2e2gn"
   },
   "outputs": [],
   "source": [
    "model.save_weights('FakeFace_Jan4weights_2nd_35Epochs.h5')"
   ]
  },
  {
   "cell_type": "code",
   "execution_count": 27,
   "metadata": {},
   "outputs": [],
   "source": [
    "from keras.models import load_model\n",
    "# Creates a HDF5 file 'my_model.h5'\n",
    "model.save('FakeFace_Jan27.h5')"
   ]
  },
  {
   "cell_type": "code",
   "execution_count": null,
   "metadata": {},
   "outputs": [],
   "source": [
    "model = load_model('FakeFace_Dec18.h5')"
   ]
  },
  {
   "cell_type": "code",
   "execution_count": null,
   "metadata": {},
   "outputs": [],
   "source": [
    "# import tensorflow as tf\n",
    "Y_pred = model.predict_generator(classgenerator, steps= (classgenerator.n // classgenerator.batch_size)+1 )"
   ]
  },
  {
   "cell_type": "code",
   "execution_count": null,
   "metadata": {},
   "outputs": [],
   "source": [
    "Y_pred= model.evaluate_generator(test_generator, steps=len(test_generator), verbose=0)\n",
    "print(\"loss             \"+\"       accuracy\"+\"             \"+\"    f1\"+\"             \"+\"     precision\"+\"             \"+\" recall\")\n",
    "print(Y_pred)"
   ]
  },
  {
   "cell_type": "code",
   "execution_count": null,
   "metadata": {},
   "outputs": [],
   "source": [
    "test_generator = test_datagen.flow_from_directory(\n",
    "    directory=\"Data\\Test\",\n",
    "    target_size=(img_h,img_w),\n",
    "    color_mode=\"rgb\",\n",
    "    batch_size=16,\n",
    "   # class_mode=\"categorical\",\n",
    "    shuffle=False\n",
    ")"
   ]
  },
  {
   "cell_type": "code",
   "execution_count": null,
   "metadata": {},
   "outputs": [],
   "source": [
    "from sklearn.metrics import classification_report, confusion_matrix\n",
    "#Confution Matrix and Classification Report\n",
    "classgenerator =test_generator\n",
    "classgenerator.reset()\n",
    "Y_pred = model.predict_generator(classgenerator, steps= (classgenerator.n // classgenerator.batch_size)+1 )\n",
    "\n",
    "y_pred = np.argmax(Y_pred, axis=1)\n",
    "\n",
    "print('Confusion Matrix')\n",
    "\n",
    "print(confusion_matrix(classgenerator.classes, y_pred))\n",
    "\n",
    "print('Classification Report')\n",
    "\n",
    "target_names = ['Altered', 'Real']\n",
    "\n",
    "print(classification_report(classgenerator.classes, y_pred, target_names=target_names))\n",
    "\n"
   ]
  },
  {
   "cell_type": "code",
   "execution_count": null,
   "metadata": {},
   "outputs": [],
   "source": [
    "\n",
    "from sklearn.metrics import f1_score, precision_score, recall_score, confusion_matrix\n",
    "\n",
    "print(\"F1\")\n",
    "print(\" \")\n",
    "print(f1_score(classgenerator.classes, y_pred , average=None))\n",
    "print(f1_score(classgenerator.classes, y_pred , average=\"macro\"))\n",
    "print(f1_score(classgenerator.classes, y_pred , average=\"micro\"))\n",
    "\n",
    "print(\" \")\n",
    "print(\"Precision\")\n",
    "print(\" \")\n",
    "print(precision_score(classgenerator.classes, y_pred , average=None))\n",
    "print(precision_score(classgenerator.classes, y_pred , average=\"macro\"))\n",
    "print(precision_score(classgenerator.classes, y_pred , average=\"micro\"))\n",
    "\n",
    "print(\" \")\n",
    "print(\"Recall\")\n",
    "print(\" \")\n",
    "print(recall_score(classgenerator.classes, y_pred , average=None))\n",
    "print(recall_score(classgenerator.classes, y_pred , average=\"macro\"))\n",
    "print(recall_score(classgenerator.classes, y_pred , average=\"micro\"))"
   ]
  },
  {
   "cell_type": "code",
   "execution_count": null,
   "metadata": {
    "colab": {},
    "colab_type": "code",
    "id": "3XxWKQ9vf3k4"
   },
   "outputs": [],
   "source": [
    "#WRONG !!!!!!!!!!!!!!!!!!!!!!!!!!!!!!!\n",
    "from sklearn.metrics import classification_report, confusion_matrix\n",
    "\n",
    "classgenerator =test_generator\n",
    "\n",
    "#Confution Matrix and Classification Report\n",
    "Y_pred = model.predict_generator(classgenerator, (classgenerator.n // classgenerator.batch_size))\n",
    "#Y_pred= model.predict_generator(test_generator, steps=len(test_generator), verbose=0)\n",
    "y_pred = np.argmax(Y_pred, axis=1)\n",
    "print('Confusion Matrix')\n",
    "print(confusion_matrix(classgenerator.classes, y_pred))\n",
    "print('Classification Report')\n",
    "target_names = ['Altered', 'Real']\n",
    "print(classification_report(classgenerator.classes, y_pred, target_names=target_names))"
   ]
  },
  {
   "cell_type": "code",
   "execution_count": null,
   "metadata": {},
   "outputs": [],
   "source": [
    "#WRONG !!!!!!!!!!!!!!!!!!!!!!!!!!!!!!!\n",
    "print(len(classgenerator))\n",
    "print(classgenerator.n // classgenerator.batch_size)"
   ]
  },
  {
   "cell_type": "code",
   "execution_count": null,
   "metadata": {},
   "outputs": [],
   "source": [
    "#WRONG !!!!!!!!!!!!!!!!!!!!!!!!!!!!!!!\n",
    "\n",
    "from sklearn.metrics import classification_report, confusion_matrix\n",
    "\n",
    "classgenerator =validation_generator\n",
    "\n",
    "#Confution Matrix and Classification Report\n",
    "#Y_pred = model.predict_generator(classgenerator, classgenerator.n // classgenerator.batch_size)\n",
    "Y_pred= model.predict_generator(test_generator, steps=len(test_generator), verbose=0)\n",
    "y_pred = np.argmax(Y_pred, axis=1)\n",
    "print('Confusion Matrix')\n",
    "print(confusion_matrix(classgenerator.classes, y_pred))\n",
    "print('Classification Report')\n",
    "target_names = ['Altered', 'Real']\n",
    "print(classification_report(classgenerator.classes, y_pred, target_names=target_names))"
   ]
  },
  {
   "cell_type": "code",
   "execution_count": null,
   "metadata": {
    "colab": {
     "base_uri": "https://localhost:8080/",
     "height": 191
    },
    "colab_type": "code",
    "executionInfo": {
     "elapsed": 653,
     "status": "error",
     "timestamp": 1571507757770,
     "user": {
      "displayName": "Shayekh Mohiuddin Ahmed Navi 1531247643",
      "photoUrl": "https://lh3.googleusercontent.com/a-/AAuE7mBpti9TZg3fYZJ9-kZ1e07c1k4znhqbYnmJvG_T=s64",
      "userId": "09928623449619463505"
     },
     "user_tz": -360
    },
    "id": "AzzLlTO_J1VF",
    "outputId": "7ffe296b-2db0-43e9-e10f-4fb21de71080"
   },
   "outputs": [],
   "source": [
    "pred = model.predict_generator(test_generator, steps=len(test_generator), verbose=0)\n",
    "# Get classes by max element in np (as a list)\n",
    "classes = list(np.argmax(pred, axis=1))\n"
   ]
  },
  {
   "cell_type": "code",
   "execution_count": null,
   "metadata": {},
   "outputs": [],
   "source": [
    "print(len(classes))"
   ]
  },
  {
   "cell_type": "code",
   "execution_count": null,
   "metadata": {
    "colab": {
     "base_uri": "https://localhost:8080/",
     "height": 372
    },
    "colab_type": "code",
    "executionInfo": {
     "elapsed": 16431247,
     "status": "ok",
     "timestamp": 1565816808253,
     "user": {
      "displayName": "Shayekh Navid",
      "photoUrl": "",
      "userId": "02776231709401317505"
     },
     "user_tz": -360
    },
    "id": "zg2BnVabE9wq",
    "outputId": "09393527-4786-4989-f682-c725cde7e487"
   },
   "outputs": [],
   "source": [
    "for layer in model.layers:\n",
    "    layer.trainable = True\n",
    "\n",
    "from keras.optimizers import SGD\n",
    "model.compile(optimizer=SGD(lr=0.0001, momentum=0.9), loss=[focal_loss(alpha=.25, gamma=2)], metrics=['accuracy'])\n",
    "history2=model.fit_generator(\n",
    "                    generator=train_generator,\n",
    "                    steps_per_epoch=train_generator.n//train_generator.batch_size,\n",
    "                    validation_data=test_generator,\n",
    "                    validation_steps=test_generator.n//test_generator.batch_size,\n",
    "                    epochs=20\n",
    ")\n"
   ]
  },
  {
   "cell_type": "code",
   "execution_count": null,
   "metadata": {
    "colab": {},
    "colab_type": "code",
    "id": "ldu0uj-mCS8T"
   },
   "outputs": [],
   "source": [
    "model.save('New_model_focalLoss_17Aug_Alpha=0.5,Gamma=2,Epochs=30.h5')"
   ]
  },
  {
   "cell_type": "code",
   "execution_count": null,
   "metadata": {
    "colab": {},
    "colab_type": "code",
    "id": "7reRCq7N3e2R"
   },
   "outputs": [],
   "source": [
    "for layer in model.layers:\n",
    "    layer.trainable = True\n",
    "\n",
    "from keras.optimizers import SGD\n",
    "model.compile(optimizer=SGD(lr=0.0001, momentum=0.9), loss=[focal_loss(alpha=.25, gamma=2)], metrics=['accuracy'])\n",
    "history2=model.fit_generator(\n",
    "                    generator=train_generator,\n",
    "                    steps_per_epoch=train_generator.n//train_generator.batch_size,\n",
    "                    validation_data=test_generator,\n",
    "                    validation_steps=test_generator.n//test_generator.batch_size,\n",
    "                    epochs=10\n",
    ")\n"
   ]
  },
  {
   "cell_type": "markdown",
   "metadata": {
    "colab_type": "text",
    "id": "nFDJCr8Zd-_d"
   },
   "source": [
    "# **TESTNG WHERE THE MODEL FAILS TO PREDICT**\n"
   ]
  },
  {
   "cell_type": "code",
   "execution_count": null,
   "metadata": {
    "colab": {},
    "colab_type": "code",
    "id": "Q6Ndbs6IeDVm"
   },
   "outputs": [],
   "source": [
    "model = load_model('final_fingerprintModel.h5',custom_objects={'FocalLoss': focal_loss,'focal_loss_fixed': focal_loss()})"
   ]
  },
  {
   "cell_type": "code",
   "execution_count": null,
   "metadata": {},
   "outputs": [],
   "source": [
    "ls"
   ]
  },
  {
   "cell_type": "markdown",
   "metadata": {
    "colab_type": "text",
    "id": "upV4lsW-hJ_4"
   },
   "source": [
    "## **Predicting where the model fails to recognize the REAL images**"
   ]
  },
  {
   "cell_type": "code",
   "execution_count": null,
   "metadata": {
    "colab": {
     "base_uri": "https://localhost:8080/",
     "height": 87
    },
    "colab_type": "code",
    "executionInfo": {
     "elapsed": 15266,
     "status": "ok",
     "timestamp": 1566022945661,
     "user": {
      "displayName": "Shayekh Navid",
      "photoUrl": "",
      "userId": "02776231709401317505"
     },
     "user_tz": -360
    },
    "id": "skaD2PSkFxlM",
    "outputId": "d6282aac-62d3-452b-9a1b-3cd7fe380aa7"
   },
   "outputs": [],
   "source": [
    "import numpy as np\n",
    "import cv2\n",
    "from skimage.transform import resize\n",
    "\n",
    "def finding_images_REAL():\n",
    "    type=\"Real\"\n",
    "    \n",
    "    for i in range(1,300):\n",
    "        \n",
    "        image_number=str(i)\n",
    "        path=\"Data/Test2/\"+type+\"/\"+type+ \" \"+\"(\"+image_number+\").BMP\"\n",
    "        img = cv2.imread(path,-1)\n",
    "        img=resize(img, (img_h, img_w, 3), mode='constant')\n",
    "        img=img.reshape(img.shape+(1,))\n",
    "        img=np.transpose(img, (3,0,1 ,2))\n",
    "\n",
    "        indivisual_prediction=model.predict(img)\n",
    "        predicted_class_indices=np.argmax(indivisual_prediction,axis=1)\n",
    "\n",
    "\n",
    "        labels = (train_generator.class_indices)\n",
    "        labels = dict((v,k) for k,v in labels.items())\n",
    "        predictions = [labels[k] for k in predicted_class_indices]\n",
    "        if(predictions[0]!=type):\n",
    "            print(image_number)\n",
    "\n",
    "finding_images_REAL()"
   ]
  },
  {
   "cell_type": "markdown",
   "metadata": {
    "colab_type": "text",
    "id": "zCUPJB8ohZMC"
   },
   "source": [
    "## **Predicting where the model fails to recognize the FALSE images**"
   ]
  },
  {
   "cell_type": "code",
   "execution_count": null,
   "metadata": {
    "colab": {},
    "colab_type": "code",
    "id": "PktGV3j0g0w8"
   },
   "outputs": [],
   "source": [
    "import numpy as np\n",
    "import cv2\n",
    "from skimage.transform import resize\n",
    "\n",
    "m = 0\n",
    "\n",
    "def finding_images_Altered():\n",
    "    \n",
    "    type=\"Altered\"\n",
    "    for i in range(1,2460):\n",
    "        image_number=str(i)\n",
    "        #path=\"Indivisual Test/\"+type+\"/\"+type+ \" \"+\"(\"+image_number+\").BMP\"\n",
    "        path=\"Data\\Test2/\"+type+\"/\"+type+ \" \"+\"(\"+image_number+\").BMP\"\n",
    "        #path=\"Indivisual Test/Altered/Altered(14).BMP\"\n",
    "        img = cv2.imread(path,-1)\n",
    "        img=resize(img, (img_h, img_w, 3), mode='constant')\n",
    "        img=img.reshape(img.shape+(1,))\n",
    "        img=np.transpose(img, (3,0,1 ,2))\n",
    "\n",
    "        indivisual_prediction=model.predict(img)\n",
    "        predicted_class_indices=np.argmax(indivisual_prediction,axis=1)\n",
    "\n",
    "\n",
    "        labels = (train_generator.class_indices)\n",
    "        labels = dict((v,k) for k,v in labels.items())\n",
    "        predictions = [labels[k] for k in predicted_class_indices]\n",
    "        if(predictions[0]!=type):\n",
    "            print(image_number)\n",
    "            global m\n",
    "            m=m+1\n",
    "\n",
    "finding_images_Altered()\n",
    "\n",
    "print(m)\n",
    "  "
   ]
  },
  {
   "cell_type": "code",
   "execution_count": null,
   "metadata": {
    "colab": {
     "base_uri": "https://localhost:8080/",
     "height": 86
    },
    "colab_type": "code",
    "executionInfo": {
     "elapsed": 11310,
     "status": "ok",
     "timestamp": 1556714185962,
     "user": {
      "displayName": "Shayekh Navid",
      "photoUrl": "",
      "userId": "02776231709401317505"
     },
     "user_tz": -360
    },
    "id": "qEEvBik7nYxb",
    "outputId": "9c72d035-6776-4516-f028-b9c21c5c5979"
   },
   "outputs": [],
   "source": [
    "model = load_model('FULLY_FINE_TUNED_WITH_50-50_DATASET_April9.h5')"
   ]
  },
  {
   "cell_type": "code",
   "execution_count": null,
   "metadata": {
    "colab": {
     "base_uri": "https://localhost:8080/",
     "height": 382
    },
    "colab_type": "code",
    "executionInfo": {
     "elapsed": 1361,
     "status": "ok",
     "timestamp": 1556788594069,
     "user": {
      "displayName": "Shayekh Navid",
      "photoUrl": "",
      "userId": "02776231709401317505"
     },
     "user_tz": -360
    },
    "id": "2yv9M6q0XmT_",
    "outputId": "bfa984d5-6b0e-483c-e148-9b68e2b6a2b0"
   },
   "outputs": [],
   "source": [
    "import numpy as np\n",
    "import cv2\n",
    "from skimage.transform import resize\n",
    "\n",
    "\n",
    "i=13\n",
    "actual_type='Real'\n",
    "\n",
    "image_number=str(i)\n",
    "path=\"Indivisual Test/\"+actual_type+\"/\"+actual_type+ \" \"+\"(\"+image_number+\").BMP\"\n",
    "img = cv2.imread(path,-1)\n",
    "img=resize(img, (img_h, img_w, 3), mode='constant')\n",
    "img=img.reshape(img.shape+(1,))\n",
    "img=np.transpose(img, (3,0,1 ,2))\n",
    "\n",
    "individual_prediction=model.predict(img)\n",
    "predicted_class_indices=np.argmax(individual_prediction,axis=1)\n",
    "predicted_class_indices\n",
    "\n",
    "  \n",
    "\n",
    "import os\n",
    "# importing io from skimage \n",
    "import skimage\n",
    "from skimage import io\n",
    "# way to load image from file\n",
    "file = os.path.join(path) \n",
    "myimg = io.imread(file) \n",
    "# way to show the input image \n",
    "io.imshow(myimg) \n",
    "io.show()\n",
    "\n",
    "\n",
    "if(predicted_class_indices==1):\n",
    "  print('\\n \\t Predicted: Real  ||'+'  Actual: '+actual_type+'\\n' ) \n",
    "else:\n",
    "  print('\\n  \\t   Predicted: Altered  ||'+'  Actual: '+actual_type+'\\n')"
   ]
  },
  {
   "cell_type": "code",
   "execution_count": null,
   "metadata": {
    "colab": {},
    "colab_type": "code",
    "id": "I_YDlTfHZzp7"
   },
   "outputs": [],
   "source": [
    "model = load_model('New_model_focalLoss_15Aug_plus10more_epochs.h5',custom_objects={'FocalLoss': focal_loss,'focal_loss_fixed': focal_loss()})"
   ]
  },
  {
   "cell_type": "code",
   "execution_count": null,
   "metadata": {
    "colab": {},
    "colab_type": "code",
    "id": "fDMGEWMUMqn1"
   },
   "outputs": [],
   "source": [
    "for layer in model.layers:\n",
    "    layer.trainable = True\n",
    "\n",
    "from keras.optimizers import SGD\n",
    "model.compile(optimizer=SGD(lr=0.0001, momentum=0.9), loss=[focal_loss(alpha=.25, gamma=2)], metrics=['accuracy'])\n",
    "history2=model.fit_generator(\n",
    "                    generator=train_generator,\n",
    "                    steps_per_epoch=train_generator.n//train_generator.batch_size,\n",
    "                    validation_data=test_generator,\n",
    "                    validation_steps=test_generator.n//test_generator.batch_size,\n",
    "                    epochs=5\n",
    ")\n"
   ]
  },
  {
   "cell_type": "code",
   "execution_count": null,
   "metadata": {
    "colab": {},
    "colab_type": "code",
    "id": "V99qD_MVmqcB"
   },
   "outputs": [],
   "source": [
    "model = load_model('New_model_focalLoss_15Aug_plus10more_epochs.h5',custom_objects={'FocalLoss': focal_loss,'focal_loss_fixed': focal_loss()})"
   ]
  },
  {
   "cell_type": "code",
   "execution_count": null,
   "metadata": {
    "colab": {},
    "colab_type": "code",
    "id": "VIZ-ZtfCPR8e"
   },
   "outputs": [],
   "source": [
    "model.save('25Aug_36KData_Fingerpints.h5')"
   ]
  },
  {
   "cell_type": "code",
   "execution_count": null,
   "metadata": {
    "colab": {},
    "colab_type": "code",
    "id": "cOIGhc656Ojz"
   },
   "outputs": [],
   "source": [
    "model.save('New_model_focalLoss_15Aug_plus10more_epochs.h5')"
   ]
  },
  {
   "cell_type": "code",
   "execution_count": null,
   "metadata": {
    "colab": {},
    "colab_type": "code",
    "id": "7ab0vUVm6Tmx"
   },
   "outputs": [],
   "source": []
  }
 ],
 "metadata": {
  "accelerator": "GPU",
  "colab": {
   "name": "Fingerprint Alteration Detection.ipynb",
   "provenance": [
    {
     "file_id": "1snsjkQSZmqT8GZthZeOswYfH9e7qo40_",
     "timestamp": 1566662884076
    }
   ]
  },
  "kernelspec": {
   "display_name": "Python 3",
   "language": "python",
   "name": "python3"
  },
  "language_info": {
   "codemirror_mode": {
    "name": "ipython",
    "version": 3
   },
   "file_extension": ".py",
   "mimetype": "text/x-python",
   "name": "python",
   "nbconvert_exporter": "python",
   "pygments_lexer": "ipython3",
   "version": "3.6.9"
  }
 },
 "nbformat": 4,
 "nbformat_minor": 1
}
