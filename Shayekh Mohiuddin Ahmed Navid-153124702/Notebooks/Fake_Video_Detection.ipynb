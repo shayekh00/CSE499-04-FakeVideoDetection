{
  "nbformat": 4,
  "nbformat_minor": 0,
  "metadata": {
    "colab": {
      "name": "Fake Video Detection.ipynb",
      "provenance": [],
      "collapsed_sections": [
        "upV4lsW-hJ_4",
        "zCUPJB8ohZMC"
      ]
    },
    "kernelspec": {
      "name": "python3",
      "display_name": "Python 3"
    },
    "accelerator": "GPU"
  },
  "cells": [
    {
      "cell_type": "code",
      "metadata": {
        "id": "4LTx79J7ZVdt",
        "colab_type": "code",
        "outputId": "fdad857c-b1b6-4035-acb1-38b52aaad01e",
        "colab": {
          "base_uri": "https://localhost:8080/",
          "height": 33
        }
      },
      "source": [
        "from google.colab import drive\n",
        "drive.mount(\"/content/drive\")"
      ],
      "execution_count": 0,
      "outputs": [
        {
          "output_type": "stream",
          "text": [
            "Drive already mounted at /content/drive; to attempt to forcibly remount, call drive.mount(\"/content/drive\", force_remount=True).\n"
          ],
          "name": "stdout"
        }
      ]
    },
    {
      "cell_type": "code",
      "metadata": {
        "colab_type": "code",
        "outputId": "618d99d9-c74b-4d3f-b409-6437748c1670",
        "id": "8lxrClPsA1_L",
        "colab": {
          "base_uri": "https://localhost:8080/",
          "height": 33
        }
      },
      "source": [
        "%cd \"/content/drive/My Drive/Colab Notebooks/\""
      ],
      "execution_count": 0,
      "outputs": [
        {
          "output_type": "stream",
          "text": [
            "/content/drive/My Drive/Colab Notebooks/Socofing\n"
          ],
          "name": "stdout"
        }
      ]
    },
    {
      "cell_type": "code",
      "metadata": {
        "id": "NGgrjtdIZYLG",
        "colab_type": "code",
        "outputId": "4f1c38af-9d1d-4436-d283-63cda861cbce",
        "colab": {
          "base_uri": "https://localhost:8080/",
          "height": 33
        }
      },
      "source": [
        "import numpy as np\n",
        "import pandas as pd\n",
        "\n",
        "import keras\n",
        "import keras.backend as K\n",
        "import tensorflow as tf\n",
        "from keras import applications\n",
        "from keras.models import Model\n",
        "from keras.layers import Flatten, Dense, Input,concatenate,Conv2D,Dropout\n",
        "from keras.optimizers import Adam\n",
        "from keras.models import load_model, model_from_json\n",
        "from keras.preprocessing.image import load_img\n",
        "from keras.preprocessing.image import img_to_array\n",
        "from keras.preprocessing.image import ImageDataGenerator\n",
        "import matplotlib.pyplot as plt\n",
        "from keras.callbacks import ModelCheckpoint\n",
        "\n",
        "import os"
      ],
      "execution_count": 2,
      "outputs": [
        {
          "output_type": "stream",
          "text": [
            "Using TensorFlow backend.\n"
          ],
          "name": "stderr"
        }
      ]
    },
    {
      "cell_type": "code",
      "metadata": {
        "id": "xY92kP06attm",
        "colab_type": "code",
        "colab": {}
      },
      "source": [
        "def getmodel(basemodel):\n",
        "  for layer in basemodel.layers:\n",
        "    layer.trainable = False\n",
        "\n",
        "  preds = Dense(2, activation='sigmoid')(basemodel.output)\n",
        "  model = Model(basemodel.input, preds)\n",
        "\n",
        "  filepath=\"Checkpointer/weights-improvement-{epoch:02d}-{val_acc:.2f}.hdf5\"\n",
        "  checkpointer = ModelCheckpoint(filepath,monitor='val_acc', verbose=1, save_best_only=True,period=2)\n",
        "\n",
        "  model.compile(optimizer='adam',  loss='binary_crossentropy', metrics=['accuracy'])\n",
        "\n",
        "  return model\n",
        "\n"
      ],
      "execution_count": 0,
      "outputs": []
    },
    {
      "cell_type": "code",
      "metadata": {
        "id": "rNeZTe793g6S",
        "colab_type": "code",
        "colab": {}
      },
      "source": [
        "#VGG19_baseModel = applications.vgg19.VGG19(weights='imagenet', include_top=False,input_shape = (224,224,3))\n",
        "Xception_baseModel = applications.xception.Xception(weights='imagenet', include_top=False, input_shape=(299, 299, 3))\n",
        "\n",
        "model = getmodel(Xception_baseModel)\n",
        "model.summary()"
      ],
      "execution_count": 0,
      "outputs": []
    },
    {
      "cell_type": "code",
      "metadata": {
        "id": "Mxg6Soow3pjo",
        "colab_type": "code",
        "colab": {}
      },
      "source": [
        ""
      ],
      "execution_count": 0,
      "outputs": []
    }
  ]
}