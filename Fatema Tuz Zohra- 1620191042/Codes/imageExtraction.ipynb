{
  "nbformat": 4,
  "nbformat_minor": 0,
  "metadata": {
    "colab": {
      "name": "Untitled1.ipynb",
      "provenance": [],
      "collapsed_sections": []
    },
    "kernelspec": {
      "name": "python3",
      "display_name": "Python 3"
    }
  },
  "cells": [
    {
      "cell_type": "code",
      "metadata": {
        "id": "g6Da0LZuoeN_",
        "colab_type": "code",
        "colab": {
          "base_uri": "https://localhost:8080/",
          "height": 128
        },
        "outputId": "786ab7bf-ec22-4144-fc90-987f634802b7"
      },
      "source": [
        "import cv2\n",
        "import numpy as np\n",
        "import os\n",
        "\n",
        "# Playing video from file\n",
        "cap = cv2.VideoCapture('Gstudiescse499projectvideoser.mp4')\n",
        "\n",
        "try\n",
        "\n",
        "    # creating a folder named data\n",
        "    if not os.path.exists('data')\n",
        "        os.makedirs('data')\n",
        "\n",
        "    # if not created then raise error\n",
        "except OSError\n",
        "    print('Error Creating directory of data')\n",
        "\n",
        "# frame\n",
        "currentframe = 0\n",
        "\n",
        "while (True)\n",
        "\n",
        "    # reading from frame\n",
        "    ret, frame = cap.read()\n",
        "\n",
        "    if ret\n",
        "        # if video is still left continue creating images\n",
        "        name = '.dataframe' + str(currentframe) + '.jpg'\n",
        "        print('Creating...' + name)\n",
        "\n",
        "        # writing the extracted images\n",
        "        cv2.imwrite(name, frame)\n",
        "\n",
        "        # increasing counter so that it will\n",
        "        # show how many frames are created\n",
        "        currentframe += 1\n",
        "\n",
        "    else\n",
        "        break\n",
        "\n",
        "# Release all space and windows once done\n",
        "cap.release()\n",
        "cv2.destroyAllWindows()"
      ],
      "execution_count": 1,
      "outputs": [
        {
          "output_type": "error",
          "ename": "SyntaxError",
          "evalue": "ignored",
          "traceback": [
            "\u001b[0;36m  File \u001b[0;32m\"<ipython-input-1-2f3869a46ea7>\"\u001b[0;36m, line \u001b[0;32m8\u001b[0m\n\u001b[0;31m    try\u001b[0m\n\u001b[0m       ^\u001b[0m\n\u001b[0;31mSyntaxError\u001b[0m\u001b[0;31m:\u001b[0m invalid syntax\n"
          ]
        }
      ]
    }
  ]
}