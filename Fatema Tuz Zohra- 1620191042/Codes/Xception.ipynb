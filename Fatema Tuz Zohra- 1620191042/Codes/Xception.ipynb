{
  "nbformat": 4,
  "nbformat_minor": 0,
  "metadata": {
    "colab": {
      "name": "Xception",
      "provenance": [],
      "collapsed_sections": []
    },
    "kernelspec": {
      "name": "python3",
      "display_name": "Python 3"
    }
  },
  "cells": [
    {
      "cell_type": "code",
      "metadata": {
        "id": "vHw1bpXt9qeM",
        "colab_type": "code",
        "outputId": "08e7d0ad-a7c2-4e92-b7e1-312d213abdd1",
        "colab": {
          "base_uri": "https://localhost:8080/",
          "height": 34
        }
      },
      "source": [
        "import numpy as np\n",
        "import pandas as pd\n",
        "\n",
        "import keras\n",
        "import keras.backend as K\n",
        "import tensorflow as tf\n",
        "from keras import applications\n",
        "from keras.models import Model\n",
        "from keras.layers import Flatten, Dense, Input,concatenate,Conv2D,Dropout\n",
        "from keras.optimizers import Adam\n",
        "from keras.models import load_model, model_from_json\n",
        "from keras.preprocessing.image import load_img\n",
        "from keras.preprocessing.image import img_to_array\n",
        "from keras.preprocessing.image import ImageDataGenerator\n",
        "import matplotlib.pyplot as plt\n",
        "\n",
        "import os"
      ],
      "execution_count": 0,
      "outputs": [
        {
          "output_type": "stream",
          "text": [
            "Using TensorFlow backend.\n"
          ],
          "name": "stderr"
        }
      ]
    },
    {
      "cell_type": "code",
      "metadata": {
        "id": "pUwcx360_WbW",
        "colab_type": "code",
        "colab": {}
      },
      "source": [
        "img_h=299\n",
        "img_w=299\n",
        "\n",
        "initial_model = applications.xception.Xception(include_top = False, weights ='imagenet', input_tensor=None, input_shape = (img_h,img_w, 3), pooling = 'max')\n",
        "final_layer = initial_model.output\n",
        "\n",
        "for layer in initial_model.layers:\n",
        "    layer.trainable = False\n",
        "    \n",
        "#x = Conv2D(128, kernel_size=3, strides=1, activation='relu')(final_layer)\n",
        "\n",
        "\n",
        "\n",
        "#preds = Dense(2, activation='sigmoid')(x)\n",
        "preds = Dense(2, activation='sigmoid')(final_layer)\n",
        "\n",
        "\n",
        "model = Model(initial_model.input, preds)\n",
        "model.compile(optimizer='adam', loss='binary_crossentropy', metrics=['accuracy'])\n",
        "\n"
      ],
      "execution_count": 0,
      "outputs": []
    },
    {
      "cell_type": "code",
      "metadata": {
        "id": "RbJ2BdbfKLTL",
        "colab_type": "code",
        "colab": {}
      },
      "source": [
        ""
      ],
      "execution_count": 0,
      "outputs": []
    }
  ]
}